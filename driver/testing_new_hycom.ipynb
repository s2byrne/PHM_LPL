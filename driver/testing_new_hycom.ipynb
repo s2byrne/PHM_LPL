{
 "cells": [
  {
   "cell_type": "code",
   "execution_count": 1,
   "metadata": {},
   "outputs": [
    {
     "name": "stderr",
     "output_type": "stream",
     "text": [
      "/home/mspydell/models/PFM_root/PFM/driver/../sdpm_py_util/ocn_functions.py:24: UserWarning: The seawater library is deprecated! Please use gsw instead.\n",
      "  import seawater\n"
     ]
    },
    {
     "name": "stdout",
     "output_type": "stream",
     "text": [
      "\n",
      "Starting the LV1 simulation, Current time  2024-09-13 12:22:55.920414\n",
      "we are going to start clean...\n",
      "getting PFM info...\n",
      "removing PFM info file...\n",
      "now removing all input files...\n",
      "now making a new PFM.pkl file.\n",
      "PFM info was saved as /scratch/PFM_Simulations/PFM_run_info.pkl\n"
     ]
    }
   ],
   "source": [
    "# -- driver_run_forecast_LV1.py  --\n",
    "# master python script to do a full LV1 forecast simulation\n",
    "\n",
    "import sys\n",
    "import pickle\n",
    "import numpy as np\n",
    "import os\n",
    "from datetime import datetime\n",
    "import gc\n",
    "import resource\n",
    "import subprocess\n",
    "\n",
    "##############\n",
    "\n",
    "sys.path.append('../sdpm_py_util')\n",
    "\n",
    "import atm_functions as atmfuns\n",
    "import ocn_functions as ocnfuns\n",
    "import grid_functions as grdfuns\n",
    "import plotting_functions as pltfuns\n",
    "from get_PFM_info import get_PFM_info\n",
    "from init_funs import initialize_simulation\n",
    "from make_LV1_dotin_and_SLURM import make_LV1_dotin_and_SLURM\n",
    "from run_slurm_LV1 import run_slurm_LV1\n",
    "\n",
    "print('\\nStarting the LV1 simulation, Current time ', datetime.now())\n",
    "\n",
    "# we are going to make a forecast\n",
    "run_type = 'forecast'\n",
    "\n",
    "# PFM has all of the information needed to run the model\n",
    "clean_start = True\n",
    "initialize_simulation(clean_start)\n",
    "PFM=get_PFM_info()\n"
   ]
  },
  {
   "cell_type": "code",
   "execution_count": 23,
   "metadata": {},
   "outputs": [
    {
     "name": "stdout",
     "output_type": "stream",
     "text": [
      "in the parallel ncks switch using new hycom data\n",
      "Time to get all files using parallel ncks = 22.55 sec\n",
      "Return code = 0 (0=success, 1=skipped ncks)\n",
      "['/scratch/PFM_Simulations/LV1_Forecast/Forc/hy_ssh_2024-09-11T12:00_2024-09-11T12:00.nc', '/scratch/PFM_Simulations/LV1_Forecast/Forc/hy_s3z_2024-09-11T12:00_2024-09-11T12:00.nc', '/scratch/PFM_Simulations/LV1_Forecast/Forc/hy_t3z_2024-09-11T12:00_2024-09-11T12:00.nc', '/scratch/PFM_Simulations/LV1_Forecast/Forc/hy_u3z_2024-09-11T12:00_2024-09-11T12:00.nc', '/scratch/PFM_Simulations/LV1_Forecast/Forc/hy_v3z_2024-09-11T12:00_2024-09-11T12:00.nc', '/scratch/PFM_Simulations/LV1_Forecast/Forc/hy_ssh_2024-09-11T12:00_2024-09-11T15:00.nc', '/scratch/PFM_Simulations/LV1_Forecast/Forc/hy_s3z_2024-09-11T12:00_2024-09-11T15:00.nc', '/scratch/PFM_Simulations/LV1_Forecast/Forc/hy_t3z_2024-09-11T12:00_2024-09-11T15:00.nc', '/scratch/PFM_Simulations/LV1_Forecast/Forc/hy_u3z_2024-09-11T12:00_2024-09-11T15:00.nc', '/scratch/PFM_Simulations/LV1_Forecast/Forc/hy_v3z_2024-09-11T12:00_2024-09-11T15:00.nc', '/scratch/PFM_Simulations/LV1_Forecast/Forc/hy_ssh_2024-09-11T12:00_2024-09-11T18:00.nc', '/scratch/PFM_Simulations/LV1_Forecast/Forc/hy_s3z_2024-09-11T12:00_2024-09-11T18:00.nc', '/scratch/PFM_Simulations/LV1_Forecast/Forc/hy_t3z_2024-09-11T12:00_2024-09-11T18:00.nc', '/scratch/PFM_Simulations/LV1_Forecast/Forc/hy_u3z_2024-09-11T12:00_2024-09-11T18:00.nc', '/scratch/PFM_Simulations/LV1_Forecast/Forc/hy_v3z_2024-09-11T12:00_2024-09-11T18:00.nc', '/scratch/PFM_Simulations/LV1_Forecast/Forc/hy_ssh_2024-09-11T12:00_2024-09-11T21:00.nc', '/scratch/PFM_Simulations/LV1_Forecast/Forc/hy_s3z_2024-09-11T12:00_2024-09-11T21:00.nc', '/scratch/PFM_Simulations/LV1_Forecast/Forc/hy_t3z_2024-09-11T12:00_2024-09-11T21:00.nc', '/scratch/PFM_Simulations/LV1_Forecast/Forc/hy_u3z_2024-09-11T12:00_2024-09-11T21:00.nc', '/scratch/PFM_Simulations/LV1_Forecast/Forc/hy_v3z_2024-09-11T12:00_2024-09-11T21:00.nc', '/scratch/PFM_Simulations/LV1_Forecast/Forc/hy_ssh_2024-09-11T12:00_2024-09-12T00:00.nc', '/scratch/PFM_Simulations/LV1_Forecast/Forc/hy_s3z_2024-09-11T12:00_2024-09-12T00:00.nc', '/scratch/PFM_Simulations/LV1_Forecast/Forc/hy_t3z_2024-09-11T12:00_2024-09-12T00:00.nc', '/scratch/PFM_Simulations/LV1_Forecast/Forc/hy_u3z_2024-09-11T12:00_2024-09-12T00:00.nc', '/scratch/PFM_Simulations/LV1_Forecast/Forc/hy_v3z_2024-09-11T12:00_2024-09-12T00:00.nc', '/scratch/PFM_Simulations/LV1_Forecast/Forc/hy_ssh_2024-09-11T12:00_2024-09-12T03:00.nc', '/scratch/PFM_Simulations/LV1_Forecast/Forc/hy_s3z_2024-09-11T12:00_2024-09-12T03:00.nc', '/scratch/PFM_Simulations/LV1_Forecast/Forc/hy_t3z_2024-09-11T12:00_2024-09-12T03:00.nc', '/scratch/PFM_Simulations/LV1_Forecast/Forc/hy_u3z_2024-09-11T12:00_2024-09-12T03:00.nc', '/scratch/PFM_Simulations/LV1_Forecast/Forc/hy_v3z_2024-09-11T12:00_2024-09-12T03:00.nc', '/scratch/PFM_Simulations/LV1_Forecast/Forc/hy_ssh_2024-09-11T12:00_2024-09-12T06:00.nc', '/scratch/PFM_Simulations/LV1_Forecast/Forc/hy_s3z_2024-09-11T12:00_2024-09-12T06:00.nc', '/scratch/PFM_Simulations/LV1_Forecast/Forc/hy_t3z_2024-09-11T12:00_2024-09-12T06:00.nc', '/scratch/PFM_Simulations/LV1_Forecast/Forc/hy_u3z_2024-09-11T12:00_2024-09-12T06:00.nc', '/scratch/PFM_Simulations/LV1_Forecast/Forc/hy_v3z_2024-09-11T12:00_2024-09-12T06:00.nc', '/scratch/PFM_Simulations/LV1_Forecast/Forc/hy_ssh_2024-09-11T12:00_2024-09-12T09:00.nc', '/scratch/PFM_Simulations/LV1_Forecast/Forc/hy_s3z_2024-09-11T12:00_2024-09-12T09:00.nc', '/scratch/PFM_Simulations/LV1_Forecast/Forc/hy_t3z_2024-09-11T12:00_2024-09-12T09:00.nc', '/scratch/PFM_Simulations/LV1_Forecast/Forc/hy_u3z_2024-09-11T12:00_2024-09-12T09:00.nc', '/scratch/PFM_Simulations/LV1_Forecast/Forc/hy_v3z_2024-09-11T12:00_2024-09-12T09:00.nc', '/scratch/PFM_Simulations/LV1_Forecast/Forc/hy_ssh_2024-09-11T12:00_2024-09-12T12:00.nc', '/scratch/PFM_Simulations/LV1_Forecast/Forc/hy_s3z_2024-09-11T12:00_2024-09-12T12:00.nc', '/scratch/PFM_Simulations/LV1_Forecast/Forc/hy_t3z_2024-09-11T12:00_2024-09-12T12:00.nc', '/scratch/PFM_Simulations/LV1_Forecast/Forc/hy_u3z_2024-09-11T12:00_2024-09-12T12:00.nc', '/scratch/PFM_Simulations/LV1_Forecast/Forc/hy_v3z_2024-09-11T12:00_2024-09-12T12:00.nc', '/scratch/PFM_Simulations/LV1_Forecast/Forc/hy_ssh_2024-09-11T12:00_2024-09-12T15:00.nc', '/scratch/PFM_Simulations/LV1_Forecast/Forc/hy_s3z_2024-09-11T12:00_2024-09-12T15:00.nc', '/scratch/PFM_Simulations/LV1_Forecast/Forc/hy_t3z_2024-09-11T12:00_2024-09-12T15:00.nc', '/scratch/PFM_Simulations/LV1_Forecast/Forc/hy_u3z_2024-09-11T12:00_2024-09-12T15:00.nc', '/scratch/PFM_Simulations/LV1_Forecast/Forc/hy_v3z_2024-09-11T12:00_2024-09-12T15:00.nc', '/scratch/PFM_Simulations/LV1_Forecast/Forc/hy_ssh_2024-09-11T12:00_2024-09-12T18:00.nc', '/scratch/PFM_Simulations/LV1_Forecast/Forc/hy_s3z_2024-09-11T12:00_2024-09-12T18:00.nc', '/scratch/PFM_Simulations/LV1_Forecast/Forc/hy_t3z_2024-09-11T12:00_2024-09-12T18:00.nc', '/scratch/PFM_Simulations/LV1_Forecast/Forc/hy_u3z_2024-09-11T12:00_2024-09-12T18:00.nc', '/scratch/PFM_Simulations/LV1_Forecast/Forc/hy_v3z_2024-09-11T12:00_2024-09-12T18:00.nc', '/scratch/PFM_Simulations/LV1_Forecast/Forc/hy_ssh_2024-09-11T12:00_2024-09-12T21:00.nc', '/scratch/PFM_Simulations/LV1_Forecast/Forc/hy_s3z_2024-09-11T12:00_2024-09-12T21:00.nc', '/scratch/PFM_Simulations/LV1_Forecast/Forc/hy_t3z_2024-09-11T12:00_2024-09-12T21:00.nc', '/scratch/PFM_Simulations/LV1_Forecast/Forc/hy_u3z_2024-09-11T12:00_2024-09-12T21:00.nc', '/scratch/PFM_Simulations/LV1_Forecast/Forc/hy_v3z_2024-09-11T12:00_2024-09-12T21:00.nc', '/scratch/PFM_Simulations/LV1_Forecast/Forc/hy_ssh_2024-09-11T12:00_2024-09-13T00:00.nc', '/scratch/PFM_Simulations/LV1_Forecast/Forc/hy_s3z_2024-09-11T12:00_2024-09-13T00:00.nc', '/scratch/PFM_Simulations/LV1_Forecast/Forc/hy_t3z_2024-09-11T12:00_2024-09-13T00:00.nc', '/scratch/PFM_Simulations/LV1_Forecast/Forc/hy_u3z_2024-09-11T12:00_2024-09-13T00:00.nc', '/scratch/PFM_Simulations/LV1_Forecast/Forc/hy_v3z_2024-09-11T12:00_2024-09-13T00:00.nc', '/scratch/PFM_Simulations/LV1_Forecast/Forc/hy_ssh_2024-09-11T12:00_2024-09-13T03:00.nc', '/scratch/PFM_Simulations/LV1_Forecast/Forc/hy_s3z_2024-09-11T12:00_2024-09-13T03:00.nc', '/scratch/PFM_Simulations/LV1_Forecast/Forc/hy_t3z_2024-09-11T12:00_2024-09-13T03:00.nc', '/scratch/PFM_Simulations/LV1_Forecast/Forc/hy_u3z_2024-09-11T12:00_2024-09-13T03:00.nc', '/scratch/PFM_Simulations/LV1_Forecast/Forc/hy_v3z_2024-09-11T12:00_2024-09-13T03:00.nc', '/scratch/PFM_Simulations/LV1_Forecast/Forc/hy_ssh_2024-09-11T12:00_2024-09-13T06:00.nc', '/scratch/PFM_Simulations/LV1_Forecast/Forc/hy_s3z_2024-09-11T12:00_2024-09-13T06:00.nc', '/scratch/PFM_Simulations/LV1_Forecast/Forc/hy_t3z_2024-09-11T12:00_2024-09-13T06:00.nc', '/scratch/PFM_Simulations/LV1_Forecast/Forc/hy_u3z_2024-09-11T12:00_2024-09-13T06:00.nc', '/scratch/PFM_Simulations/LV1_Forecast/Forc/hy_v3z_2024-09-11T12:00_2024-09-13T06:00.nc', '/scratch/PFM_Simulations/LV1_Forecast/Forc/hy_ssh_2024-09-11T12:00_2024-09-13T09:00.nc', '/scratch/PFM_Simulations/LV1_Forecast/Forc/hy_s3z_2024-09-11T12:00_2024-09-13T09:00.nc', '/scratch/PFM_Simulations/LV1_Forecast/Forc/hy_t3z_2024-09-11T12:00_2024-09-13T09:00.nc', '/scratch/PFM_Simulations/LV1_Forecast/Forc/hy_u3z_2024-09-11T12:00_2024-09-13T09:00.nc', '/scratch/PFM_Simulations/LV1_Forecast/Forc/hy_v3z_2024-09-11T12:00_2024-09-13T09:00.nc', '/scratch/PFM_Simulations/LV1_Forecast/Forc/hy_ssh_2024-09-11T12:00_2024-09-13T12:00.nc', '/scratch/PFM_Simulations/LV1_Forecast/Forc/hy_s3z_2024-09-11T12:00_2024-09-13T12:00.nc', '/scratch/PFM_Simulations/LV1_Forecast/Forc/hy_t3z_2024-09-11T12:00_2024-09-13T12:00.nc', '/scratch/PFM_Simulations/LV1_Forecast/Forc/hy_u3z_2024-09-11T12:00_2024-09-13T12:00.nc', '/scratch/PFM_Simulations/LV1_Forecast/Forc/hy_v3z_2024-09-11T12:00_2024-09-13T12:00.nc', '/scratch/PFM_Simulations/LV1_Forecast/Forc/hy_ssh_2024-09-11T12:00_2024-09-13T15:00.nc', '/scratch/PFM_Simulations/LV1_Forecast/Forc/hy_s3z_2024-09-11T12:00_2024-09-13T15:00.nc', '/scratch/PFM_Simulations/LV1_Forecast/Forc/hy_t3z_2024-09-11T12:00_2024-09-13T15:00.nc', '/scratch/PFM_Simulations/LV1_Forecast/Forc/hy_u3z_2024-09-11T12:00_2024-09-13T15:00.nc', '/scratch/PFM_Simulations/LV1_Forecast/Forc/hy_v3z_2024-09-11T12:00_2024-09-13T15:00.nc', '/scratch/PFM_Simulations/LV1_Forecast/Forc/hy_ssh_2024-09-11T12:00_2024-09-13T18:00.nc', '/scratch/PFM_Simulations/LV1_Forecast/Forc/hy_s3z_2024-09-11T12:00_2024-09-13T18:00.nc', '/scratch/PFM_Simulations/LV1_Forecast/Forc/hy_t3z_2024-09-11T12:00_2024-09-13T18:00.nc', '/scratch/PFM_Simulations/LV1_Forecast/Forc/hy_u3z_2024-09-11T12:00_2024-09-13T18:00.nc', '/scratch/PFM_Simulations/LV1_Forecast/Forc/hy_v3z_2024-09-11T12:00_2024-09-13T18:00.nc', '/scratch/PFM_Simulations/LV1_Forecast/Forc/hy_ssh_2024-09-11T12:00_2024-09-13T21:00.nc', '/scratch/PFM_Simulations/LV1_Forecast/Forc/hy_s3z_2024-09-11T12:00_2024-09-13T21:00.nc', '/scratch/PFM_Simulations/LV1_Forecast/Forc/hy_t3z_2024-09-11T12:00_2024-09-13T21:00.nc', '/scratch/PFM_Simulations/LV1_Forecast/Forc/hy_u3z_2024-09-11T12:00_2024-09-13T21:00.nc', '/scratch/PFM_Simulations/LV1_Forecast/Forc/hy_v3z_2024-09-11T12:00_2024-09-13T21:00.nc', '/scratch/PFM_Simulations/LV1_Forecast/Forc/hy_ssh_2024-09-11T12:00_2024-09-14T00:00.nc', '/scratch/PFM_Simulations/LV1_Forecast/Forc/hy_s3z_2024-09-11T12:00_2024-09-14T00:00.nc', '/scratch/PFM_Simulations/LV1_Forecast/Forc/hy_t3z_2024-09-11T12:00_2024-09-14T00:00.nc', '/scratch/PFM_Simulations/LV1_Forecast/Forc/hy_u3z_2024-09-11T12:00_2024-09-14T00:00.nc', '/scratch/PFM_Simulations/LV1_Forecast/Forc/hy_v3z_2024-09-11T12:00_2024-09-14T00:00.nc']\n",
      "Data variables:\n",
      "    salinity    (time, depth, lat, lon) float32 dask.array<chunksize=(1, 40, 204, 103), meta=np.ndarray>\n",
      "    surf_el     (time, lat, lon) float32 dask.array<chunksize=(1, 204, 103), meta=np.ndarray>\n",
      "    water_temp  (time, depth, lat, lon) float32 dask.array<chunksize=(1, 40, 204, 103), meta=np.ndarray>\n",
      "    water_u     (time, depth, lat, lon) float32 dask.array<chunksize=(1, 40, 204, 103), meta=np.ndarray>\n",
      "    water_v     (time, depth, lat, lon) float32 dask.array<chunksize=(1, 40, 204, 103), meta=np.ndarray>\n",
      "\n",
      "max and min raw hycom data (iz is top [0] to bottom [39]):\n",
      "max zeta   =  1.020 m          at  ( it, ilat, ilon)     =  ( 20,   5,   0)\n",
      "min zeta   = -0.873 m          at  ( it, ilat, ilon)     =  ( 15, 203,  20)\n",
      "max u      =  0.544 m/s        at  ( it, iz, ilat, ilon) =  ( 20, 11,  21,  70)\n",
      "min u      = -0.666 m/s        at  ( it, iz, ilat, ilon) =  (  1,  4, 120,   3)\n",
      "max v      =  0.486 m/s        at  ( it, iz, ilat, ilon) =  (  2,  2, 203,  21)\n",
      "min v      = -0.745 m/s        at  ( it, iz, ilat, ilon) =  (  6,  0, 139,  49)\n",
      "max temp   = 24.700 C          at  ( it, iz, ilat, ilon) =  (  4,  0, 105,  84)\n",
      "min temp   =  1.397 C          at  ( it, iz, ilat, ilon) =  ( 16, 38,  31,   5)\n",
      "max dT/dz  =  2.032 C/m        at  ( it, iz, ilat, ilon) =  (  0,  1, 117,  81)\n",
      "min dT/dz  = -0.224 C/m        at  ( it, iz, ilat, ilon) =  ( 12, 13, 121,  56)\n",
      "max salt   = 34.713 psu        at  ( it, iz, ilat, ilon) =  (  0, 37,  38,  75)\n",
      "min salt   = 32.813 psu        at  ( it, iz, ilat, ilon) =  (  0,  9, 203,   0)\n",
      "max dS/dz  =  0.069 psu/m      at  ( it, iz, ilat, ilon) =  (  0,  1, 117,  81)\n",
      "min dS/dz  = -0.037 psu/m      at  ( it, iz, ilat, ilon) =  (  1,  5, 203,  17)\n",
      "\n",
      "Hycom OCN dict saved with pickle\n",
      "did subprocess run correctly? 0 (0=yes,1=no)\n"
     ]
    }
   ],
   "source": [
    "ocn_mod = 'hycom_new'\n",
    "yyyymmdd = '20240911'\n",
    "\n",
    "os.chdir('../sdpm_py_util')\n",
    "cmd_list = ['python','-W','ignore','ocn_functions.py','get_ocn_data_as_dict_pckl',yyyymmdd,run_type,ocn_mod,'ncks_para']\n",
    "ret1 = subprocess.run(cmd_list)     \n",
    "os.chdir('../driver')\n",
    "print('did subprocess run correctly? ' + str(ret1.returncode) + ' (0=yes,1=no)')\n",
    "\n"
   ]
  },
  {
   "cell_type": "code",
   "execution_count": 24,
   "metadata": {},
   "outputs": [
    {
     "name": "stdout",
     "output_type": "stream",
     "text": [
      "<class 'netCDF4._netCDF4.Dataset'>\n",
      "root group (NETCDF4 data model, file format HDF5):\n",
      "    classification_level: \n",
      "    distribution_statement: Approved for public release; distribution unlimited.\n",
      "    downgrade_date: not applicable\n",
      "    classification_authority: not applicable\n",
      "    institution: Fleet Numerical Meteorology and Oceanography Center (FNMOC)\n",
      "    source: HYCOM archive file, GLBz0.04\n",
      "    field_type: instantaneous\n",
      "    Conventions: CF-1.4, NAVO_netcdf_v1.0\n",
      "    grid_name: glby0.08\n",
      "    area_name: glby0.08\n",
      "    contact: FNMOC CDO, 831-657-1406\n",
      "    operational_status: pre-operational\n",
      "    generating_model: ESPC-D V02: HYCOM 2.2.99, CICE 5.1.2, expt_03.1\n",
      "    input_data_source: FNMOC NAVGEM, Satellite SSH, SST, SMMI, in situ observations\n",
      "    reference: https://portal.fnmoc.navy.mil/\n",
      "    created_on: 2024-09-11 04:09:59\n",
      "    time_origin: 2024-09-10 12:00:00\n",
      "    _CoordSysBuilder: ucar.nc2.dataset.conv.CF1Convention\n",
      "    cdm_data_type: GRID\n",
      "    featureType: GRID\n",
      "    location: Proto fmrc:FMRC_ESPC-D-V02_s3z\n",
      "    history: Fri Sep 13 13:30:46 2024: ncks -d time,2024-09-11T12:00,2024-09-11T12:30 -d lon,236.14718692090975,244.3526828277587 -d lat,28.36036255692185,36.55363973083988 -v salinity https://tds.hycom.org/thredds/dodsC/FMRC_ESPC-D-V02_s3zruns/FMRC_ESPC-D-V02_s3z_RUN_2024-09-11T12:00:00Z -4 -O /scratch/PFM_Simulations/LV1_Forecast/Forc/hy_s3z_2024-09-11T12:00_2024-09-11T12:00.nc\n",
      "FMRC Run 2024-09-11T12:00:00Z Dataset\n",
      "    NCO: netCDF Operators version 5.0.7 (Homepage = http://nco.sf.net, Code = http://github.com/nco/nco)\n",
      "    dimensions(sizes): depth(40), lat(204), lon(103), time(21)\n",
      "    variables(dimensions): float64 depth(depth), float64 lat(lat), float64 lon(lon), float32 salinity(time, depth, lat, lon), float64 time(time), float32 surf_el(time, lat, lon), float32 water_temp(time, depth, lat, lon), float32 water_u(time, depth, lat, lon), float32 water_v(time, depth, lat, lon)\n",
      "    groups: \n",
      "(21, 204, 103)\n",
      "[168. 171. 174. 177. 180. 183. 186. 189. 192. 195. 198. 201. 204. 207.\n",
      " 210. 213. 216. 219. 222. 225. 228.]\n"
     ]
    }
   ],
   "source": [
    "import netCDF4\n",
    "hyc = netCDF4.Dataset('/scratch/PFM_Simulations/LV1_Forecast/Forc/hy_cat_2024-09-11T12:00.nc')\n",
    "\n",
    "print(hyc)\n",
    "print(np.shape(hyc.variables['surf_el'][:]))\n",
    "print(hyc.variables['time'][:])"
   ]
  }
 ],
 "metadata": {
  "kernelspec": {
   "display_name": "base",
   "language": "python",
   "name": "python3"
  },
  "language_info": {
   "codemirror_mode": {
    "name": "ipython",
    "version": 3
   },
   "file_extension": ".py",
   "mimetype": "text/x-python",
   "name": "python",
   "nbconvert_exporter": "python",
   "pygments_lexer": "ipython3",
   "version": "3.12.2"
  }
 },
 "nbformat": 4,
 "nbformat_minor": 2
}
