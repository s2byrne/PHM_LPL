{
 "cells": [
  {
   "cell_type": "code",
   "execution_count": 1,
   "metadata": {},
   "outputs": [
    {
     "name": "stdout",
     "output_type": "stream",
     "text": [
      "ocean boundary and initial conditions will be from:\n",
      "hycom\n",
      "atm forcing will be from:\n",
      "nam_nest\n",
      "Starting: driver_run_forecast_LV1: Current local Time = 2024-08-20 18:13:26.939110 UTC =  2024-08-21 01:13:26.939131+00:00\n",
      "Preparing forecast starting on 20240817\n"
     ]
    },
    {
     "name": "stderr",
     "output_type": "stream",
     "text": [
      "/home/mspydell/models/PFM_root/PFM/driver/../sdpm_py_util/ocn_functions.py:28: UserWarning: The seawater library is deprecated! Please use gsw instead.\n",
      "  import seawater\n"
     ]
    }
   ],
   "source": [
    "# -- driver_run_forecast_LV1.py  --\n",
    "# master python script to do a full LV1 forecast simulation\n",
    "\n",
    "import sys\n",
    "import pickle\n",
    "#import matplotlib.pyplot as plt\n",
    "import numpy as np\n",
    "import os\n",
    "from datetime import datetime, timezone\n",
    "import gc\n",
    "import resource\n",
    "import subprocess\n",
    "#import xarray as xr\n",
    "#import netCDF4 as nc\n",
    "\n",
    "##############\n",
    "\n",
    "sys.path.append('../sdpm_py_util')\n",
    "\n",
    "import atm_functions as atmfuns\n",
    "import ocn_functions as ocnfuns\n",
    "import grid_functions as grdfuns\n",
    "import util_functions as utlfuns \n",
    "import plotting_functions as pltfuns\n",
    "from util_functions import s_coordinate_4\n",
    "from get_PFM_info import get_PFM_info\n",
    "from make_LV1_dotin_and_SLURM import make_LV1_dotin_and_SLURM\n",
    "from run_slurm_LV1 import run_slurm_LV1\n",
    "\n",
    "#import warnings\n",
    "#warnings.filterwarnings(\"ignore\")\n",
    "\n",
    "\n",
    "\n",
    "PFM=get_PFM_info()\n",
    "\n",
    "run_type = 'forecast'\n",
    "# we will use hycom for IC and BC\n",
    "ocn_mod = PFM['ocn_model']\n",
    "print('ocean boundary and initial conditions will be from:')\n",
    "print(ocn_mod)\n",
    "# we will use nam_nest for the atm forcing\n",
    "atm_mod = PFM['atm_model']\n",
    "print('atm forcing will be from:')\n",
    "print(atm_mod)\n",
    "# we will use opendap, and netcdf to grab ocn, and atm data\n",
    "get_method = 'open_dap_nc'\n",
    "# figure out what the time is local and UTC\n",
    "start_time = datetime.now()\n",
    "utc_time = datetime.now(timezone.utc)\n",
    "year_utc = utc_time.year\n",
    "month_utc = utc_time.month\n",
    "day_utc = utc_time.day\n",
    "hour_utc = utc_time.hour\n",
    "\n",
    "print(\"Starting: driver_run_forecast_LV1: Current local Time =\", start_time, \"UTC = \",utc_time)\n",
    "\n",
    "if hour_utc < 12:\n",
    "    hour_utc=12\n",
    "    day_utc=day_utc-1  # this only works if day_utc \\neq 1\n",
    "\n",
    "yyyymmdd = \"%d%02d%02d\" % (year_utc, month_utc, day_utc)\n",
    "    \n",
    "#yyyymmdd = '20240717'\n",
    "# the hour in Z of the forecast, hycom has forecasts once per day starting at 1200Z\n",
    "hhmm='1200'\n",
    "forecastZdatestr = yyyymmdd+hhmm+'Z'   # this could be used for model output to indicate when model was initialized.\n",
    "\n",
    "yyyymmdd = '20240817'\n",
    "print(\"Preparing forecast starting on\",yyyymmdd)\n",
    "\n",
    "\n",
    "# get the ROMS grid as a dict\n",
    "RMG = grdfuns.roms_grid_to_dict(PFM['lv1_grid_file'])\n",
    "fn_pckl = PFM['lv1_forc_dir'] + '/' + PFM['lv1_ocn_tmp_pckl_file']\n",
    "ocnIC_pckl = PFM['lv1_forc_dir'] + '/' + PFM['lv1_ocnIC_tmp_pckl_file']\n"
   ]
  },
  {
   "cell_type": "code",
   "execution_count": 3,
   "metadata": {},
   "outputs": [
    {
     "name": "stdout",
     "output_type": "stream",
     "text": [
      "before getting OCN, using:\n",
      "273808\n",
      "kilobytes\n",
      "going to use subprocess, and save a pickle file.\n"
     ]
    },
    {
     "name": "stderr",
     "output_type": "stream",
     "text": [
      "/home/mspydell/models/PFM_root/PFM/sdpm_py_util/ocn_functions.py:27: UserWarning: The seawater library is deprecated! Please use gsw instead.\n",
      "  import seawater\n"
     ]
    },
    {
     "name": "stdout",
     "output_type": "stream",
     "text": [
      "in the parallel ncks switch\n",
      "Time to get full file using parallel ncks = 28.80 sec\n",
      "Return code = 0 (0=success, 1=skipped ncks)\n",
      "Hycom OCN dict saved with pickle\n",
      "hycom data saved with pickle, correctly?\n",
      "CompletedProcess(args=['python', 'ocn_functions.py', 'get_ocn_data_as_dict_pckl', '20240810', 'forecast', 'hycom', 'ncks_para'], returncode=0)\n",
      "0=yes,1=no\n"
     ]
    }
   ],
   "source": [
    "print('before getting OCN, using:')\n",
    "print(resource.getrusage(resource.RUSAGE_SELF).ru_maxrss)\n",
    "print('kilobytes')\n",
    "\n",
    "use_ncks = 1 # flag to get data using ncks. if =0, then a pre saved pickle file is loaded.\n",
    "use_pckl_sav = 1\n",
    "if use_ncks == 1:\n",
    "    if use_pckl_sav == 0: # the original way that breaks when going to OCN_R\n",
    "        OCN = ocnfuns.get_ocn_data_as_dict(yyyymmdd,run_type,ocn_mod,'ncks_para')\n",
    "        print('driver_run_forecast_LV1: done with get_ocn_data_as_dict: Current time ',datetime.now() )\n",
    "        print('after getting OCN with ncks_para, using:')\n",
    "        print(resource.getrusage(resource.RUSAGE_SELF).ru_maxrss)\n",
    "        print('kilobytes')\n",
    "    else:\n",
    "        print('going to use subprocess, and save a pickle file.')\n",
    "        os.chdir('../sdpm_py_util')\n",
    "        cmd_list = ['python','ocn_functions.py','get_ocn_data_as_dict_pckl',yyyymmdd,run_type,ocn_mod,'ncks_para']\n",
    "        ret1 = subprocess.run(cmd_list)     \n",
    "        os.chdir('../driver')\n",
    "        print('hycom data saved with pickle, correctly?')\n",
    "        print(ret1)\n",
    "        print('0=yes,1=no')\n",
    "\n",
    "        #with open(fn_pckl,'rb') as fp:\n",
    "        #    OCN = pickle.load(fp)\n",
    "        #    print('OCN dict now loaded with pickle')\n",
    "        #    print('after getting OCN from file, using:')\n",
    "        #    print(resource.getrusage(resource.RUSAGE_SELF).ru_maxrss)\n",
    "        #    print('kilobytes')\n",
    "\n",
    "else:\n",
    "    save_ocn = 0 # if 0, this loads the pickle file. if 1, it saves the pickle file\n",
    "    import pickle\n",
    "    # save the OCN dict so that we can restart the python session\n",
    "    # and not have to worry about opendap timing out\n",
    "    fnout='/scratch/PFM_Simulations/LV1_Forecast/Forc/ocn_dict_file_2024-07-29T12:00.pkl'\n",
    "    if save_ocn == 1:\n",
    "        with open(fnout,'wb') as fp:\n",
    "            pickle.dump(OCN,fp)\n",
    "            print('OCN dict saved with pickle')\n",
    "    else:\n",
    "        fn_pckl = PFM['lv1_forc_dir'] + '/' + PFM['lv1_ocn_tmp_pckl_file']\n",
    "        with open(fn_pckl,'rb') as fp:\n",
    "            #OCN = pickle.load(fp)\n",
    "            print('OCN dict loaded with pickle')\n",
    "            print('after getting OCN from file, using:')\n",
    "            print(resource.getrusage(resource.RUSAGE_SELF).ru_maxrss)\n",
    "            print('kilobytes')\n",
    "\n"
   ]
  },
  {
   "cell_type": "code",
   "execution_count": 4,
   "metadata": {},
   "outputs": [
    {
     "name": "stdout",
     "output_type": "stream",
     "text": [
      "/scratch/PFM_Simulations/LV1_Forecast/Forc/hycom_tmp_pckl_file.pkl\n",
      "OCN dict loaded with pickle\n"
     ]
    }
   ],
   "source": [
    "## plot OCN\n",
    "plot_ocn = 1\n",
    "if plot_ocn ==1:\n",
    "    pltfuns.plot_ocn_fields_from_dict_pckl(fn_pckl)\n"
   ]
  },
  {
   "cell_type": "code",
   "execution_count": 5,
   "metadata": {},
   "outputs": [
    {
     "name": "stdout",
     "output_type": "stream",
     "text": [
      "before gc.collect and getting OCN_R, using:\n",
      "793712\n",
      "kilobytes\n",
      "after gc.collect and before OCN_R, using:\n",
      "793712\n",
      "kilobytes\n",
      "starting: ocnfuns.hycom_to_roms_latlon(OCN,RMG)\n",
      "\n",
      "putting the hycom data in /scratch/PFM_Simulations/LV1_Forecast/Forc/hycom_tmp_pckl_file.pkl on the roms grid\n",
      "and saving 17 pickle files...\n",
      "doing depth using subprocess\n"
     ]
    },
    {
     "name": "stderr",
     "output_type": "stream",
     "text": [
      "/home/mspydell/models/PFM_root/PFM/sdpm_py_util/ocn_functions.py:27: UserWarning: The seawater library is deprecated! Please use gsw instead.\n",
      "  import seawater\n"
     ]
    },
    {
     "name": "stdout",
     "output_type": "stream",
     "text": [
      "doing lat_rho using subprocess\n"
     ]
    },
    {
     "name": "stderr",
     "output_type": "stream",
     "text": [
      "/home/mspydell/models/PFM_root/PFM/sdpm_py_util/ocn_functions.py:27: UserWarning: The seawater library is deprecated! Please use gsw instead.\n",
      "  import seawater\n"
     ]
    },
    {
     "name": "stdout",
     "output_type": "stream",
     "text": [
      "doing lon_rho using subprocess\n"
     ]
    },
    {
     "name": "stderr",
     "output_type": "stream",
     "text": [
      "/home/mspydell/models/PFM_root/PFM/sdpm_py_util/ocn_functions.py:27: UserWarning: The seawater library is deprecated! Please use gsw instead.\n",
      "  import seawater\n"
     ]
    },
    {
     "name": "stdout",
     "output_type": "stream",
     "text": [
      "doing lat_u using subprocess\n"
     ]
    },
    {
     "name": "stderr",
     "output_type": "stream",
     "text": [
      "/home/mspydell/models/PFM_root/PFM/sdpm_py_util/ocn_functions.py:27: UserWarning: The seawater library is deprecated! Please use gsw instead.\n",
      "  import seawater\n"
     ]
    },
    {
     "name": "stdout",
     "output_type": "stream",
     "text": [
      "doing lon_u using subprocess\n"
     ]
    },
    {
     "name": "stderr",
     "output_type": "stream",
     "text": [
      "/home/mspydell/models/PFM_root/PFM/sdpm_py_util/ocn_functions.py:27: UserWarning: The seawater library is deprecated! Please use gsw instead.\n",
      "  import seawater\n"
     ]
    },
    {
     "name": "stdout",
     "output_type": "stream",
     "text": [
      "doing lat_v using subprocess\n"
     ]
    },
    {
     "name": "stderr",
     "output_type": "stream",
     "text": [
      "/home/mspydell/models/PFM_root/PFM/sdpm_py_util/ocn_functions.py:27: UserWarning: The seawater library is deprecated! Please use gsw instead.\n",
      "  import seawater\n"
     ]
    },
    {
     "name": "stdout",
     "output_type": "stream",
     "text": [
      "doing lon_v using subprocess\n"
     ]
    },
    {
     "name": "stderr",
     "output_type": "stream",
     "text": [
      "/home/mspydell/models/PFM_root/PFM/sdpm_py_util/ocn_functions.py:27: UserWarning: The seawater library is deprecated! Please use gsw instead.\n",
      "  import seawater\n"
     ]
    },
    {
     "name": "stdout",
     "output_type": "stream",
     "text": [
      "doing ocean_time using subprocess\n"
     ]
    },
    {
     "name": "stderr",
     "output_type": "stream",
     "text": [
      "/home/mspydell/models/PFM_root/PFM/sdpm_py_util/ocn_functions.py:27: UserWarning: The seawater library is deprecated! Please use gsw instead.\n",
      "  import seawater\n"
     ]
    },
    {
     "name": "stdout",
     "output_type": "stream",
     "text": [
      "doing ocean_time_ref using subprocess\n"
     ]
    },
    {
     "name": "stderr",
     "output_type": "stream",
     "text": [
      "/home/mspydell/models/PFM_root/PFM/sdpm_py_util/ocn_functions.py:27: UserWarning: The seawater library is deprecated! Please use gsw instead.\n",
      "  import seawater\n"
     ]
    },
    {
     "name": "stdout",
     "output_type": "stream",
     "text": [
      "doing salt using subprocess\n"
     ]
    },
    {
     "name": "stderr",
     "output_type": "stream",
     "text": [
      "/home/mspydell/models/PFM_root/PFM/sdpm_py_util/ocn_functions.py:27: UserWarning: The seawater library is deprecated! Please use gsw instead.\n",
      "  import seawater\n"
     ]
    },
    {
     "name": "stdout",
     "output_type": "stream",
     "text": [
      "doing temp using subprocess\n"
     ]
    },
    {
     "name": "stderr",
     "output_type": "stream",
     "text": [
      "/home/mspydell/models/PFM_root/PFM/sdpm_py_util/ocn_functions.py:27: UserWarning: The seawater library is deprecated! Please use gsw instead.\n",
      "  import seawater\n"
     ]
    },
    {
     "name": "stdout",
     "output_type": "stream",
     "text": [
      "doing ubar using subprocess\n"
     ]
    },
    {
     "name": "stderr",
     "output_type": "stream",
     "text": [
      "/home/mspydell/models/PFM_root/PFM/sdpm_py_util/ocn_functions.py:27: UserWarning: The seawater library is deprecated! Please use gsw instead.\n",
      "  import seawater\n"
     ]
    },
    {
     "name": "stdout",
     "output_type": "stream",
     "text": [
      "doing urm using subprocess\n"
     ]
    },
    {
     "name": "stderr",
     "output_type": "stream",
     "text": [
      "/home/mspydell/models/PFM_root/PFM/sdpm_py_util/ocn_functions.py:27: UserWarning: The seawater library is deprecated! Please use gsw instead.\n",
      "  import seawater\n"
     ]
    },
    {
     "name": "stdout",
     "output_type": "stream",
     "text": [
      "doing vbar using subprocess\n"
     ]
    },
    {
     "name": "stderr",
     "output_type": "stream",
     "text": [
      "/home/mspydell/models/PFM_root/PFM/sdpm_py_util/ocn_functions.py:27: UserWarning: The seawater library is deprecated! Please use gsw instead.\n",
      "  import seawater\n"
     ]
    },
    {
     "name": "stdout",
     "output_type": "stream",
     "text": [
      "doing vrm using subprocess\n"
     ]
    },
    {
     "name": "stderr",
     "output_type": "stream",
     "text": [
      "/home/mspydell/models/PFM_root/PFM/sdpm_py_util/ocn_functions.py:27: UserWarning: The seawater library is deprecated! Please use gsw instead.\n",
      "  import seawater\n"
     ]
    },
    {
     "name": "stdout",
     "output_type": "stream",
     "text": [
      "doing zeta using subprocess\n"
     ]
    },
    {
     "name": "stderr",
     "output_type": "stream",
     "text": [
      "/home/mspydell/models/PFM_root/PFM/sdpm_py_util/ocn_functions.py:27: UserWarning: The seawater library is deprecated! Please use gsw instead.\n",
      "  import seawater\n"
     ]
    },
    {
     "name": "stdout",
     "output_type": "stream",
     "text": [
      "doing vinfo using subprocess\n",
      "...done. \n",
      "all 17 ocnR pickle files were made correctly\n",
      "\n",
      "driver_run_forecast_LV1: done with hycom_to_roms_latlon\n",
      "using:\n",
      "793712\n",
      "kilobytes\n"
     ]
    },
    {
     "name": "stderr",
     "output_type": "stream",
     "text": [
      "/home/mspydell/models/PFM_root/PFM/sdpm_py_util/ocn_functions.py:27: UserWarning: The seawater library is deprecated! Please use gsw instead.\n",
      "  import seawater\n"
     ]
    }
   ],
   "source": [
    "\n",
    "print('before gc.collect and getting OCN_R, using:')\n",
    "print(resource.getrusage(resource.RUSAGE_SELF).ru_maxrss)\n",
    "print('kilobytes')\n",
    "gc.collect()\n",
    "print('after gc.collect and before OCN_R, using:')\n",
    "print(resource.getrusage(resource.RUSAGE_SELF).ru_maxrss)\n",
    "print('kilobytes')\n",
    "# put the ocn data on the roms grid\n",
    "print('starting: ocnfuns.hycom_to_roms_latlon(OCN,RMG)')\n",
    "sv_ocnR_pkl_file=1\n",
    "if sv_ocnR_pkl_file==0:\n",
    "    print('returning OCN_R')\n",
    "    OCN_R  = ocnfuns.hycom_to_roms_latlon(OCN,RMG)\n",
    "else:\n",
    "    #print('going to save OCN_R to temp pickle files.')\n",
    "    os.chdir('../sdpm_py_util')\n",
    "    #cmd_list = ['python','ocn_functions.py','hycom_to_roms_latlon_pckl',fn_pckl]\n",
    "    print('\\nputting the hycom data in ' + fn_pckl + ' on the roms grid')\n",
    "    ocnfuns.make_all_tmp_pckl_ocnR_files(fn_pckl)\n",
    "\n",
    "    #print(cmd_list)\n",
    "    #ret2 = subprocess.run(cmd_list)     \n",
    "    os.chdir('../driver')\n",
    "    #print('OCN_R data saved to pickle files, correctly?')\n",
    "    #print(ret2)\n",
    "    #print('0=yes,1=no')\n",
    "\n",
    "print('\\ndriver_run_forecast_LV1: done with hycom_to_roms_latlon')\n",
    "# add OCN + OCN_R plotting function here !!!\n",
    "print('using:')\n",
    "print(resource.getrusage(resource.RUSAGE_SELF).ru_maxrss)\n",
    "print('kilobytes')\n",
    "\n"
   ]
  },
  {
   "cell_type": "code",
   "execution_count": 6,
   "metadata": {},
   "outputs": [],
   "source": [
    "## plot OCN_R\n",
    "plot_ocnr = 1\n",
    "if plot_ocnr == 1:\n",
    "    pltfuns.plot_ocn_R_fields_pckl()\n"
   ]
  },
  {
   "cell_type": "code",
   "execution_count": 2,
   "metadata": {},
   "outputs": [
    {
     "name": "stdout",
     "output_type": "stream",
     "text": [
      "using:\n",
      "269284\n",
      "kilobytes\n",
      "making the depth pickle file...\n",
      "depth pickle file /scratch/PFM_Simulations/LV1_Forecast/Forc/roms_tmp_depth_file.pklalready exists.\n",
      "subprocess return code? 0 (0=good)\n",
      "...done.\n"
     ]
    },
    {
     "name": "stderr",
     "output_type": "stream",
     "text": [
      "/home/mspydell/models/PFM_root/PFM/sdpm_py_util/ocn_functions.py:28: UserWarning: The seawater library is deprecated! Please use gsw instead.\n",
      "  import seawater\n"
     ]
    }
   ],
   "source": [
    "print('using:')\n",
    "print(resource.getrusage(resource.RUSAGE_SELF).ru_maxrss)\n",
    "print('kilobytes')\n",
    "# %%\n",
    "# get the OCN_IC dictionary\n",
    "\n",
    "# make the depth pickle file\n",
    "print('making the depth pickle file...')\n",
    "fname_depths = PFM['lv1_forc_dir'] + '/' + PFM['lv1_depth_file']\n",
    "cmd_list = ['python','ocn_functions.py','make_rom_depths',fname_depths]\n",
    "os.chdir('../sdpm_py_util')\n",
    "ret6 = subprocess.run(cmd_list)     \n",
    "os.chdir('../driver')\n",
    "print('subprocess return code? ' + str(ret6.returncode) +  ' (0=good)')\n",
    "print('...done.')\n",
    "\n"
   ]
  },
  {
   "cell_type": "code",
   "execution_count": 2,
   "metadata": {},
   "outputs": [
    {
     "name": "stdout",
     "output_type": "stream",
     "text": [
      "going to save OCN_IC to a pickle file to:\n",
      "/scratch/PFM_Simulations/LV1_Forecast/Forc/ocnIC_tmp_pckl_file.pkl\n"
     ]
    },
    {
     "name": "stderr",
     "output_type": "stream",
     "text": [
      "/home/mspydell/models/PFM_root/PFM/sdpm_py_util/ocn_functions.py:28: UserWarning: The seawater library is deprecated! Please use gsw instead.\n",
      "  import seawater\n"
     ]
    },
    {
     "name": "stdout",
     "output_type": "stream",
     "text": [
      "got here in IC, 1\n",
      "got here in IC, 2\n",
      "OCN_IC dict saved with pickle\n",
      "OCN IC data saved with pickle, correctly?\n",
      "CompletedProcess(args=['python', 'ocn_functions.py', 'ocn_r_2_ICdict_pckl', '/scratch/PFM_Simulations/LV1_Forecast/Forc/ocnIC_tmp_pckl_file.pkl'], returncode=0)\n",
      "0=yes,1=no\n",
      "driver_run_forecast_LV1: done with ocn_r_2_ICdict\n",
      "using:\n",
      "263620\n",
      "kilobytes\n"
     ]
    }
   ],
   "source": [
    "\n",
    "fr_ocnR_pkl_file=1\n",
    "if fr_ocnR_pkl_file==0:\n",
    "    OCN_IC = ocnfuns.ocn_r_2_ICdict(OCN_R,RMG,PFM)\n",
    "else:\n",
    "    print('going to save OCN_IC to a pickle file to:')\n",
    "    print(ocnIC_pckl) \n",
    "    os.chdir('../sdpm_py_util')\n",
    "    cmd_list = ['python','ocn_functions.py','ocn_r_2_ICdict_pckl',ocnIC_pckl]\n",
    "    ret3 = subprocess.run(cmd_list)     \n",
    "    os.chdir('../driver')\n",
    "    print('OCN IC data saved with pickle, correctly?')\n",
    "    print(ret3)\n",
    "    print('0=yes,1=no')\n",
    "\n",
    "\n",
    "\n",
    "print('driver_run_forecast_LV1: done with ocn_r_2_ICdict')\n",
    "# add OCN_IC.nc plotting function here !!!!\n",
    "print('using:')\n",
    "print(resource.getrusage(resource.RUSAGE_SELF).ru_maxrss)\n",
    "print('kilobytes')"
   ]
  },
  {
   "cell_type": "code",
   "execution_count": 4,
   "metadata": {},
   "outputs": [
    {
     "name": "stdout",
     "output_type": "stream",
     "text": [
      "using:\n",
      "263884\n",
      "kilobytes\n",
      "making IC file from pickled IC: /scratch/PFM_Simulations/LV1_Forecast/Forc/LV1_OCEAN_IC.nc\n"
     ]
    },
    {
     "name": "stderr",
     "output_type": "stream",
     "text": [
      "/home/mspydell/models/PFM_root/PFM/sdpm_py_util/ocn_functions.py:28: UserWarning: The seawater library is deprecated! Please use gsw instead.\n",
      "  import seawater\n"
     ]
    },
    {
     "name": "stdout",
     "output_type": "stream",
     "text": [
      "OCN_IC dict loaded with pickle\n",
      "<xarray.Dataset>\n",
      "Dimensions:      (time: 1, s_rho: 40, er: 390, xr: 253, eu: 390, xu: 252,\n",
      "                  ev: 389, xv: 253)\n",
      "Coordinates:\n",
      "    lat_rho      (er, xr) float64 28.52 28.53 28.54 28.55 ... 36.38 36.39 36.39\n",
      "    lon_rho      (er, xr) float64 -120.3 -120.2 -120.2 ... -118.8 -118.8 -118.8\n",
      "    lat_u        (eu, xu) float64 28.52 28.53 28.54 28.55 ... 36.38 36.38 36.39\n",
      "    lon_u        (eu, xu) float64 -120.3 -120.2 -120.2 ... -118.8 -118.8 -118.8\n",
      "    lat_v        (ev, xv) float64 28.53 28.54 28.54 28.55 ... 36.37 36.38 36.39\n",
      "    lon_v        (ev, xv) float64 -120.3 -120.2 -120.2 ... -118.8 -118.8 -118.8\n",
      "    ocean_time   (time) float64 9.354e+03\n",
      "    Cs_r         (s_rho) float64 -0.9827 -0.9383 ... -9.61e-05 -1.061e-05\n",
      "Dimensions without coordinates: time, s_rho, er, xr, eu, xu, ev, xv\n",
      "Data variables: (12/13)\n",
      "    temp         (time, s_rho, er, xr) float64 1.104 1.289 1.292 ... 10.37 10.37\n",
      "    salt         (time, s_rho, er, xr) float64 34.71 34.67 34.67 ... 33.92 33.92\n",
      "    u            (time, s_rho, eu, xu) float64 -0.01244 -0.01315 ... -0.001405\n",
      "    v            (time, s_rho, ev, xv) float64 0.01292 0.0126 ... 0.005434\n",
      "    ubar         (time, eu, xu) float64 -0.004679 -0.005287 ... -0.001792\n",
      "    vbar         (time, ev, xv) float64 0.005535 0.004901 ... 0.01291 0.01291\n",
      "    ...           ...\n",
      "    Vtransform   int64 2\n",
      "    Vstretching  int64 4\n",
      "    theta_s      float64 8.0\n",
      "    theta_b      float64 3.0\n",
      "    Tcline       float64 50.0\n",
      "    hc           float64 50.0\n",
      "Attributes:\n",
      "    type:       ocean initial condition file fields for starting roms\n",
      "    time info:  ocean time is from 1999/01/01 00:00:00\n",
      "OCN IC nc data saved, correctly?\n",
      "CompletedProcess(args=['python', 'ocn_functions.py', 'ocn_roms_IC_dict_to_netcdf_pckl', '/scratch/PFM_Simulations/LV1_Forecast/Forc/ocnIC_tmp_pckl_file.pkl', '/scratch/PFM_Simulations/LV1_Forecast/Forc/LV1_OCEAN_IC.nc'], returncode=0)\n",
      "0=yes,1=no\n",
      "done makeing IC .nc file.\n",
      "using:\n",
      "263884\n",
      "kilobytes\n"
     ]
    }
   ],
   "source": [
    "print('using:')\n",
    "print(resource.getrusage(resource.RUSAGE_SELF).ru_maxrss)\n",
    "print('kilobytes')\n",
    "\n",
    "ic_file_out = PFM['lv1_forc_dir'] + '/' + PFM['lv1_ini_file']\n",
    "\n",
    "frm_ICpkl_file = 1\n",
    "if frm_ICpkl_file == 0:\n",
    "    print('making IC file: '+ ic_file_out)\n",
    "    ocnfuns.ocn_roms_IC_dict_to_netcdf(OCN_IC, ic_file_out)\n",
    "    print('done makeing IC file.')\n",
    "else:\n",
    "    print('making IC file from pickled IC: '+ ic_file_out)\n",
    "    cmd_list = ['python','ocn_functions.py','ocn_roms_IC_dict_to_netcdf_pckl',ocnIC_pckl,ic_file_out]\n",
    "    os.chdir('../sdpm_py_util')\n",
    "    ret4 = subprocess.run(cmd_list)     \n",
    "    os.chdir('../driver')\n",
    "    print('OCN IC nc data saved, correctly?')\n",
    "    print(ret4)\n",
    "    print('0=yes,1=no')\n",
    "    print('done makeing IC .nc file.')\n",
    "\n",
    "print('using:')\n",
    "print(resource.getrusage(resource.RUSAGE_SELF).ru_maxrss)\n",
    "print('kilobytes')\n",
    "\n"
   ]
  },
  {
   "cell_type": "code",
   "execution_count": 9,
   "metadata": {},
   "outputs": [],
   "source": [
    "## plot OCN_R \n",
    "# this code plots the bottom not top.\n",
    "plot_ocn_icnc= 1\n",
    "if plot_ocn_icnc == 1:\n",
    "    pltfuns.plot_ocn_ic_fields(ic_file_out,RMG,PFM)\n",
    "\n",
    "\n"
   ]
  },
  {
   "cell_type": "code",
   "execution_count": 2,
   "metadata": {},
   "outputs": [
    {
     "name": "stdout",
     "output_type": "stream",
     "text": [
      "using:\n",
      "269108\n",
      "kilobytes\n",
      "going to save OCN_BC to a pickle file to:\n",
      "/scratch/PFM_Simulations/LV1_Forecast/Forc/ocnBC_tmp_pckl_file.pkl\n"
     ]
    },
    {
     "name": "stderr",
     "output_type": "stream",
     "text": [
      "/home/mspydell/models/PFM_root/PFM/sdpm_py_util/ocn_functions.py:28: UserWarning: The seawater library is deprecated! Please use gsw instead.\n",
      "  import seawater\n"
     ]
    },
    {
     "name": "stdout",
     "output_type": "stream",
     "text": [
      "loading /scratch/PFM_Simulations/LV1_Forecast/Forc/roms_tmp_depth_file.pkl\n",
      "OCN_BC dict saved with pickle\n",
      "OCN BC data saved with pickle, correctly?\n",
      "0\n",
      "0=yes,1=no\n"
     ]
    }
   ],
   "source": [
    "print('using:')\n",
    "print(resource.getrusage(resource.RUSAGE_SELF).ru_maxrss)\n",
    "print('kilobytes')\n",
    "# %%\n",
    "# get the OCN_BC dictionary\n",
    "\n",
    "fr_ocnR_pkl_file=1\n",
    "if fr_ocnR_pkl_file==0:\n",
    "    OCN_BC = ocnfuns.ocn_r_2_BCdict(OCN_R,RMG,PFM)\n",
    "else:\n",
    "    print('going to save OCN_BC to a pickle file to:')\n",
    "    ocnBC_pckl = PFM['lv1_forc_dir'] + '/' + PFM['lv1_ocnBC_tmp_pckl_file']\n",
    "    print(ocnBC_pckl) \n",
    "    os.chdir('../sdpm_py_util')\n",
    "    cmd_list = ['python','ocn_functions.py','ocn_r_2_BCdict_pckl_new',ocnBC_pckl]\n",
    "    ret4 = subprocess.run(cmd_list)     \n",
    "    os.chdir('../driver')\n",
    "    print('OCN BC data saved with pickle, correctly?')\n",
    "    print(ret4.returncode)\n",
    "    print('0=yes,1=no')\n",
    "    \n",
    "\n",
    "\n"
   ]
  },
  {
   "cell_type": "code",
   "execution_count": 3,
   "metadata": {},
   "outputs": [
    {
     "name": "stdout",
     "output_type": "stream",
     "text": [
      "using:\n",
      "269108\n",
      "kilobytes\n",
      "making BC nc file from pickled BC: /scratch/PFM_Simulations/LV1_Forecast/Forc/LV1_OCEAN_BC.nc\n"
     ]
    },
    {
     "name": "stderr",
     "output_type": "stream",
     "text": [
      "/home/mspydell/models/PFM_root/PFM/sdpm_py_util/ocn_functions.py:28: UserWarning: The seawater library is deprecated! Please use gsw instead.\n",
      "  import seawater\n"
     ]
    },
    {
     "name": "stdout",
     "output_type": "stream",
     "text": [
      "OCN_BC dict loaded with pickle\n",
      "<xarray.Dataset>\n",
      "Dimensions:      (temp_time: 21, s_rho: 40, xr: 253, salt_time: 21,\n",
      "                  v3d_time: 21, xu: 252, xv: 253, v2d_time: 21, zeta_time: 21,\n",
      "                  er: 390, eu: 390, ev: 389, time: 21)\n",
      "Coordinates:\n",
      "    ocean_time   (time) float64 9.354e+03 9.354e+03 ... 9.356e+03 9.356e+03\n",
      "  * zeta_time    (zeta_time) float64 9.354e+03 9.354e+03 ... 9.356e+03 9.356e+03\n",
      "  * v2d_time     (v2d_time) float64 9.354e+03 9.354e+03 ... 9.356e+03 9.356e+03\n",
      "  * v3d_time     (v3d_time) float64 9.354e+03 9.354e+03 ... 9.356e+03 9.356e+03\n",
      "  * salt_time    (salt_time) float64 9.354e+03 9.354e+03 ... 9.356e+03 9.356e+03\n",
      "  * temp_time    (temp_time) float64 9.354e+03 9.354e+03 ... 9.356e+03 9.356e+03\n",
      "    Cs_r         (s_rho) float64 -0.9827 -0.9383 ... -9.61e-05 -1.061e-05\n",
      "Dimensions without coordinates: s_rho, xr, xu, xv, er, eu, ev, time\n",
      "Data variables: (12/27)\n",
      "    temp_south   (temp_time, s_rho, xr) float64 1.104 1.289 ... 11.16 11.16\n",
      "    salt_south   (salt_time, s_rho, xr) float64 34.71 34.67 ... 33.97 33.97\n",
      "    u_south      (v3d_time, s_rho, xu) float64 -0.01244 -0.01315 ... 0.01961\n",
      "    v_south      (v3d_time, s_rho, xv) float64 0.01292 0.0126 ... -0.01055\n",
      "    ubar_south   (v2d_time, xu) float64 -0.004679 -0.005287 ... 0.006557\n",
      "    vbar_south   (v2d_time, xv) float64 0.005535 0.004901 ... 0.005537 0.005537\n",
      "    ...           ...\n",
      "    Vtransform   int64 2\n",
      "    Vstretching  int64 4\n",
      "    theta_s      float64 8.0\n",
      "    theta_b      float64 3.0\n",
      "    Tcline       float64 50.0\n",
      "    hc           float64 50.0\n",
      "Attributes:\n",
      "    type:       ocean boundary condition file fields for starting roms\n",
      "    time info:  ocean time is from 1999/01/01 00:00:00\n",
      "OCN BC nc data saved, correctly?\n",
      "CompletedProcess(args=['python', 'ocn_functions.py', 'ocn_roms_BC_dict_to_netcdf_pckl', '/scratch/PFM_Simulations/LV1_Forecast/Forc/ocnBC_tmp_pckl_file.pkl', '/scratch/PFM_Simulations/LV1_Forecast/Forc/LV1_OCEAN_BC.nc'], returncode=0)\n",
      "0=yes,1=no\n",
      "done makeing IC .nc file.\n",
      "using:\n",
      "269108\n",
      "kilobytes\n",
      "driver_run_forecast_LV1: done with ocn_r_2_BCdict\n"
     ]
    }
   ],
   "source": [
    "print('using:')\n",
    "print(resource.getrusage(resource.RUSAGE_SELF).ru_maxrss)\n",
    "print('kilobytes')\n",
    "\n",
    "bc_file_out = PFM['lv1_forc_dir'] + '/' + PFM['lv1_bc_file']\n",
    "ocnBC_pckl = PFM['lv1_forc_dir'] + '/' + PFM['lv1_ocnBC_tmp_pckl_file']\n",
    "\n",
    "frm_BCpkl_file = 1\n",
    "if frm_BCpkl_file == 0:\n",
    "    print('making BC file: '+ bc_file_out)\n",
    "    ocnfuns.ocn_roms_BC_dict_to_netcdf(OCN_BC, bc_file_out)\n",
    "    print('done makeing BC nc file.')\n",
    "else:\n",
    "    print('making BC nc file from pickled BC: '+ bc_file_out)\n",
    "    cmd_list = ['python','ocn_functions.py','ocn_roms_BC_dict_to_netcdf_pckl',ocnBC_pckl,bc_file_out]\n",
    "    os.chdir('../sdpm_py_util')\n",
    "    ret5 = subprocess.run(cmd_list)     \n",
    "    os.chdir('../driver')\n",
    "    print('OCN BC nc data saved, correctly?')\n",
    "    print(ret5)\n",
    "    print('0=yes,1=no')\n",
    "    print('done makeing IC .nc file.')\n",
    "\n",
    "print('using:')\n",
    "print(resource.getrusage(resource.RUSAGE_SELF).ru_maxrss)\n",
    "print('kilobytes')\n",
    "\n",
    "# get the OCN_BC dictionary\n",
    "\n",
    "print('driver_run_forecast_LV1: done with ocn_r_2_BCdict')\n"
   ]
  },
  {
   "cell_type": "code",
   "execution_count": 12,
   "metadata": {},
   "outputs": [
    {
     "name": "stdout",
     "output_type": "stream",
     "text": [
      "getting atm forecast for:\n",
      "[datetime.datetime(2024, 8, 10, 12, 0)\n",
      " datetime.datetime(2024, 8, 10, 15, 0)\n",
      " datetime.datetime(2024, 8, 10, 18, 0)\n",
      " datetime.datetime(2024, 8, 10, 21, 0)\n",
      " datetime.datetime(2024, 8, 11, 0, 0) datetime.datetime(2024, 8, 11, 3, 0)\n",
      " datetime.datetime(2024, 8, 11, 6, 0) datetime.datetime(2024, 8, 11, 9, 0)\n",
      " datetime.datetime(2024, 8, 11, 12, 0)\n",
      " datetime.datetime(2024, 8, 11, 15, 0)\n",
      " datetime.datetime(2024, 8, 11, 18, 0)\n",
      " datetime.datetime(2024, 8, 11, 21, 0)\n",
      " datetime.datetime(2024, 8, 12, 0, 0) datetime.datetime(2024, 8, 12, 3, 0)\n",
      " datetime.datetime(2024, 8, 12, 6, 0) datetime.datetime(2024, 8, 12, 9, 0)\n",
      " datetime.datetime(2024, 8, 12, 12, 0)\n",
      " datetime.datetime(2024, 8, 12, 15, 0)\n",
      " datetime.datetime(2024, 8, 12, 18, 0)\n",
      " datetime.datetime(2024, 8, 12, 21, 0)\n",
      " datetime.datetime(2024, 8, 13, 0, 0)]\n",
      "done with plotting ATM fields\n"
     ]
    }
   ],
   "source": [
    "# make a switch to see if this file exists. If it exists, we don't need to run the code in this block\n",
    "# first the atm data\n",
    "# get the data as a dict\n",
    "# need to specify hhmm because nam forecast are produced at 6 hr increments\n",
    "ATM = atmfuns.get_atm_data_as_dict(yyyymmdd,hhmm,run_type,atm_mod,'open_dap_nc',PFM)\n",
    "# put in a function to check to make sure that all the data is good\n",
    "# put in a function to plot the raw atm data if we want to\n",
    "\n",
    "\n",
    "# plot some stuff\n",
    "pltfuns.plot_atm_fields(ATM, RMG, PFM)\n",
    "print('done with plotting ATM fields')\n"
   ]
  },
  {
   "cell_type": "code",
   "execution_count": 13,
   "metadata": {},
   "outputs": [
    {
     "name": "stdout",
     "output_type": "stream",
     "text": [
      "done with: atmfuns.get_atm_data_on_roms_grid(ATM,RMG)\n",
      "done with: pltfuns.plot_all_fields_in_one(ATM, ATM_R, RMG, PFM)\n"
     ]
    },
    {
     "data": {
      "text/plain": [
       "<Figure size 640x480 with 0 Axes>"
      ]
     },
     "metadata": {},
     "output_type": "display_data"
    }
   ],
   "source": [
    "# put the atm data on the roms grid, and rotate the velocities\n",
    "# everything in this dict turn into the atm.nc file\n",
    "\n",
    "ATM_R  = atmfuns.get_atm_data_on_roms_grid(ATM,RMG)\n",
    "print('done with: atmfuns.get_atm_data_on_roms_grid(ATM,RMG)')\n",
    "# all the fields plotted with the data on roms grid\n",
    "\n",
    "\n",
    "pltfuns.plot_all_fields_in_one(ATM, ATM_R, RMG, PFM)\n",
    "print('done with: pltfuns.plot_all_fields_in_one(ATM, ATM_R, RMG, PFM)')\n"
   ]
  },
  {
   "cell_type": "code",
   "execution_count": 14,
   "metadata": {},
   "outputs": [
    {
     "name": "stdout",
     "output_type": "stream",
     "text": [
      "driver_run_forcast_LV1: saving ATM file to /scratch/PFM_Simulations/LV1_Forecast/Forc/LV1_ATM_FORCING.nc\n",
      "<xarray.Dataset>\n",
      "Dimensions:     (tair_time: 21, er: 390, xr: 253, pair_time: 21, qair_time: 21,\n",
      "                 wind_time: 21, rain_time: 21, srf_time: 21, lrf_time: 21,\n",
      "                 time: 21)\n",
      "Coordinates:\n",
      "    lat         (er, xr) float64 28.52 28.53 28.54 28.55 ... 36.38 36.39 36.39\n",
      "    lon         (er, xr) float64 -120.3 -120.2 -120.2 ... -118.8 -118.8 -118.8\n",
      "    ocean_time  (time) float64 9.354e+03 9.354e+03 ... 9.356e+03 9.356e+03\n",
      "  * tair_time   (tair_time) float64 9.354e+03 9.354e+03 ... 9.356e+03 9.356e+03\n",
      "  * pair_time   (pair_time) float64 9.354e+03 9.354e+03 ... 9.356e+03 9.356e+03\n",
      "  * qair_time   (qair_time) float64 9.354e+03 9.354e+03 ... 9.356e+03 9.356e+03\n",
      "  * wind_time   (wind_time) float64 9.354e+03 9.354e+03 ... 9.356e+03 9.356e+03\n",
      "  * rain_time   (rain_time) float64 9.354e+03 9.354e+03 ... 9.356e+03 9.356e+03\n",
      "  * srf_time    (srf_time) float64 9.354e+03 9.354e+03 ... 9.356e+03 9.356e+03\n",
      "  * lrf_time    (lrf_time) float64 9.354e+03 9.354e+03 ... 9.356e+03 9.356e+03\n",
      "Dimensions without coordinates: er, xr, time\n",
      "Data variables:\n",
      "    Tair        (tair_time, er, xr) float64 20.76 20.75 20.75 ... 34.44 34.38\n",
      "    Pair        (pair_time, er, xr) float64 1.014e+03 1.014e+03 ... 1.012e+03\n",
      "    Qair        (qair_time, er, xr) float64 97.79 97.87 97.6 ... 21.56 21.83\n",
      "    Uwind       (wind_time, er, xr) float64 2.639 2.677 2.71 ... 2.689 2.689\n",
      "    Vwind       (wind_time, er, xr) float64 -5.832 -5.844 ... -1.486 -1.507\n",
      "    rain        (rain_time, er, xr) float64 0.0 0.0 0.0 0.0 ... 0.0 0.0 0.0 0.0\n",
      "    swrad       (srf_time, er, xr) float64 0.0 0.0 0.0 0.0 ... 443.8 444.8 444.7\n",
      "    lwrad       (lrf_time, er, xr) float64 -0.4736 -0.5454 ... -172.3 -172.8\n",
      "    lwrad_down  (lrf_time, er, xr) float64 409.8 409.7 409.7 ... 335.4 334.5\n",
      "Attributes:\n",
      "    type:       atmospheric forcing file fields for surface fluxes\n",
      "    time info:  ocean time is from 1999/01/01 00:00:00\n",
      "driver_run_forecast_LV1:  done with writing ATM file, Current time  2024-08-13 14:32:30.526899\n",
      "done with pltfuns.load_and_plot_atm(PFM)\n"
     ]
    }
   ],
   "source": [
    "# output a netcdf file of ATM_R\n",
    "# make the atm .nc file here.\n",
    "# fn_out is the name of the atm.nc file used by roms\n",
    "fn_out = PFM['lv1_forc_dir'] + '/' + PFM['lv1_atm_file'] # LV1 atm forcing filename\n",
    "print('driver_run_forcast_LV1: saving ATM file to ' + fn_out)\n",
    "atmfuns.atm_roms_dict_to_netcdf(ATM_R,fn_out)\n",
    "print('driver_run_forecast_LV1:  done with writing ATM file, Current time ', datetime.now())\n",
    "# put in a function to plot the atm.nc file if we want to\n",
    "pltfuns.load_and_plot_atm(RMG, PFM)\n",
    "print('done with pltfuns.load_and_plot_atm(PFM)')\n",
    "\n"
   ]
  },
  {
   "cell_type": "code",
   "execution_count": 2,
   "metadata": {},
   "outputs": [
    {
     "name": "stdout",
     "output_type": "stream",
     "text": [
      "driver_run_forecast_LV1:  now make .in and .sb files\n",
      " --- making dot_in for \n",
      "...done\n",
      "now running roms with slurm\n",
      "run_slurm_LV1: current directory is now:  /scratch/PFM_Simulations/LV1_Forecast/Run\n",
      "Submitted batch job 322\n",
      "CompletedProcess(args=['sbatch', 'LV1_SLURM.sb'], returncode=0)\n",
      "subprocess slurm ran correctly? 0 (0=yes)\n",
      "run_slurm_LV1: run command:  ['sbatch', 'LV1_SLURM.sb']\n"
     ]
    }
   ],
   "source": [
    "print('driver_run_forecast_LV1:  now make .in and .sb files')\n",
    "\n",
    "pfm_driver_src_dir = os.getcwd()\n",
    "os.chdir('/home/mspydell/models/PFM_root/PFM/sdpm_py_util')\n",
    "make_LV1_dotin_and_SLURM( PFM , yyyymmdd + hhmm )\n",
    "print('...done')\n",
    "\n",
    "# run command will be\n",
    "print('now running roms with slurm')\n",
    "run_slurm_LV1(PFM)\n",
    "\n",
    "os.chdir('/home/mspydell/models/PFM_root/PFM/driver')\n"
   ]
  },
  {
   "cell_type": "code",
   "execution_count": 16,
   "metadata": {},
   "outputs": [
    {
     "name": "stdout",
     "output_type": "stream",
     "text": [
      "now running roms with slurm\n",
      "run_slurm_LV1: current directory is now:  /scratch/PFM_Simulations/LV1_Forecast/Run\n",
      "run_slurm_LV1: run command:  ['sbatch', 'LV1_SLURM.sb']\n"
     ]
    },
    {
     "ename": "FileNotFoundError",
     "evalue": "[Errno 2] No such file or directory: '../driver'",
     "output_type": "error",
     "traceback": [
      "\u001b[0;31m---------------------------------------------------------------------------\u001b[0m",
      "\u001b[0;31mFileNotFoundError\u001b[0m                         Traceback (most recent call last)",
      "Cell \u001b[0;32mIn[16], line 5\u001b[0m\n\u001b[1;32m      2\u001b[0m \u001b[38;5;28mprint\u001b[39m(\u001b[38;5;124m'\u001b[39m\u001b[38;5;124mnow running roms with slurm\u001b[39m\u001b[38;5;124m'\u001b[39m)\n\u001b[1;32m      3\u001b[0m run_slurm_LV1(PFM)\n\u001b[0;32m----> 5\u001b[0m os\u001b[38;5;241m.\u001b[39mchdir(\u001b[38;5;124m'\u001b[39m\u001b[38;5;124m../driver\u001b[39m\u001b[38;5;124m'\u001b[39m)\n",
      "\u001b[0;31mFileNotFoundError\u001b[0m: [Errno 2] No such file or directory: '../driver'"
     ]
    }
   ],
   "source": [
    "\n",
    "\n",
    "\n"
   ]
  },
  {
   "cell_type": "code",
   "execution_count": 2,
   "metadata": {},
   "outputs": [
    {
     "name": "stdout",
     "output_type": "stream",
     "text": [
      "Time to get full file using ncks = 1517.43 sec\n",
      "Return code = 0 (0=success, 1=skipped ncks)\n",
      "driver_run_forecast_LV1: done with get_ocn_data_as_dict: Current time  2024-07-31 13:19:42.922055\n"
     ]
    }
   ],
   "source": [
    "# ========================================\n",
    "# OLD and testing stuff is below this line\n",
    "# ========================================\n",
    "\n",
    "# note, this function is hard wired to return 2.5 days of data\n",
    "# also note that the first time of this data is yyyymmdd 12:00Z\n",
    "# so we grab nam atm forecast data starting at this hour too.\n",
    "OCN = ocnfuns.get_ocn_data_as_dict(yyyymmdd,run_type,ocn_mod,'ncks',PFM)\n",
    "print('driver_run_forecast_LV1: done with get_ocn_data_as_dict: Current time ',datetime.now() )\n",
    "# add OCN plotting function here !!!!\n"
   ]
  },
  {
   "cell_type": "code",
   "execution_count": 15,
   "metadata": {},
   "outputs": [
    {
     "name": "stdout",
     "output_type": "stream",
     "text": [
      "[-3.93123231e+03 -3.75474333e+03 -3.52972510e+03 -3.26472846e+03\n",
      " -2.97238546e+03 -2.66672447e+03 -2.36090537e+03 -2.06577680e+03\n",
      " -1.78926497e+03 -1.53639255e+03 -1.30967290e+03 -1.10966328e+03\n",
      " -9.35530096e+02 -7.85545054e+02 -6.57479968e+02 -5.48897615e+02\n",
      " -4.57351431e+02 -3.80512397e+02 -3.16241603e+02 -2.62624554e+02\n",
      " -2.17979970e+02 -1.80852622e+02 -1.49997019e+02 -1.24356554e+02\n",
      " -1.03041157e+02 -8.53053078e+01 -7.05274834e+01 -5.81915863e+01\n",
      " -4.78705504e+01 -3.92121256e+01 -3.19267151e+01 -2.57770855e+01\n",
      " -2.05697424e+01 -1.61477695e+01 -1.23849360e+01 -9.18090342e+00\n",
      " -6.45738032e+00 -4.15510133e+00 -2.23152804e+00 -6.59192206e-01]\n",
      "4000.301069322105\n"
     ]
    }
   ],
   "source": [
    "from scipy.interpolate import interp1d\n",
    "import util_functions as utlfuns \n",
    "from util_functions import s_coordinate_4\n",
    "from scipy.interpolate import RegularGridInterpolator\n",
    "\n",
    "ilat = 130\n",
    "ilon = 155\n",
    "hrm = RMG['h'][ilat,ilon]\n",
    "\n",
    "hraw = None\n",
    "h = RMG['h']\n",
    "eta = 0 * h\n",
    "zrom = s_coordinate_4(h, 3.0 , 8.0 , 50.0 , 40, hraw=hraw, zeta=eta)\n",
    "zr = np.squeeze(zrom.z_r[0,:,:,:])\n",
    "print(zr[:,0,0])\n",
    "print(h[0,0])\n",
    "\n"
   ]
  },
  {
   "cell_type": "code",
   "execution_count": null,
   "metadata": {},
   "outputs": [],
   "source": [
    "\n",
    "\n",
    "zz = np.squeeze(zr[:,ilat,:])\n",
    "ln = np.squeeze(OCN_IC['lon_rho'][ilat,:])\n",
    "ln2 = np.ones(np.shape(zz)) * ln[None,:]\n",
    "\n",
    "fig, ax = plt.subplots()\n",
    "plevs=np.arange(0,1.5,.1)\n",
    "cmap=plt.get_cmap('turbo')\n",
    "plt.set_cmap(cmap)\n",
    "cset1=ax.contourf(ln2,zz,np.log10( OCN_IC['temp'][0,:,ilat,:]) ,plevs)\n",
    "cbar=fig.colorbar(cset1,ax=ax,orientation='vertical')\n",
    "ax.set_title('temp [C]')\n",
    "\n"
   ]
  },
  {
   "cell_type": "code",
   "execution_count": null,
   "metadata": {},
   "outputs": [],
   "source": [
    "with open(ocnIC_pckl,'rb') as fp:\n",
    "    OCN_IC = pickle.load(fp)\n",
    "\n",
    "print(np.shape(OCN_IC['temp']))\n",
    "\n",
    "import matplotlib.pyplot as plt\n",
    "fig, ax = plt.subplots(nrows=1, ncols=2)\n",
    "\n",
    "plevs=np.arange(12,24,.1)\n",
    "cmap=plt.get_cmap('turbo')\n",
    "plt.set_cmap(cmap)\n",
    "#cset1=ax[0].contourf(OCN_IC['lon_rho'],OCN_IC['lat_rho'],np.squeeze(OCN_IC['temp'][0,0,:,:]),plevs)\n",
    "#cbar=fig.colorbar(cset1,ax=ax[0],orientation='horizontal')\n",
    "#ax[0].set_title('bottom temp [C]')\n",
    "\n",
    "cset1=ax[1].contourf(OCN_IC['lon_rho'],OCN_IC['lat_rho'],np.squeeze(OCN_IC['temp'][0,-1,:,:]),plevs)\n",
    "cbar=fig.colorbar(cset1,ax=ax[1],orientation='horizontal')\n",
    "ax[1].set_title('surface temp [C]')\n"
   ]
  },
  {
   "cell_type": "code",
   "execution_count": 6,
   "metadata": {},
   "outputs": [
    {
     "name": "stdout",
     "output_type": "stream",
     "text": [
      "[28.         28.04000092 28.07999992 28.12000084 28.15999985 28.20000076\n",
      " 28.23999977 28.28000069 28.31999969 28.36000061 28.39999962 28.44000053\n",
      " 28.47999954 28.52000046 28.55999947 28.60000038 28.63999939 28.68000031\n",
      " 28.71999931 28.76000023 28.79999924 28.84000015 28.87999916 28.92000008\n",
      " 28.95999908 29.         29.04000092 29.07999992 29.12000084 29.15999985\n",
      " 29.20000076 29.23999977 29.28000069 29.31999969 29.36000061 29.39999962\n",
      " 29.44000053 29.47999954 29.52000046 29.55999947 29.60000038 29.63999939\n",
      " 29.68000031 29.71999931 29.76000023 29.79999924 29.84000015 29.87999916\n",
      " 29.92000008 29.95999908 30.         30.04000092 30.07999992 30.12000084\n",
      " 30.15999985 30.20000076 30.23999977 30.28000069 30.31999969 30.36000061\n",
      " 30.39999962 30.44000053 30.47999954 30.52000046 30.55999947 30.60000038\n",
      " 30.63999939 30.68000031 30.71999931 30.76000023 30.79999924 30.84000015\n",
      " 30.87999916 30.92000008 30.95999908 31.         31.04000092 31.07999992\n",
      " 31.12000084 31.15999985 31.20000076 31.23999977 31.28000069 31.31999969\n",
      " 31.36000061 31.39999962 31.44000053 31.47999954 31.52000046 31.55999947\n",
      " 31.60000038 31.63999939 31.68000031 31.71999931 31.76000023 31.79999924\n",
      " 31.84000015 31.87999916 31.92000008 31.95999908 32.         32.04000092\n",
      " 32.08000183 32.11999893 32.15999985 32.20000076 32.24000168 32.27999878\n",
      " 32.31999969 32.36000061 32.40000153 32.43999863 32.47999954 32.52000046\n",
      " 32.56000137 32.59999847 32.63999939 32.68000031 32.72000122 32.75999832\n",
      " 32.79999924 32.84000015 32.88000107 32.91999817 32.95999908 33.\n",
      " 33.04000092 33.08000183 33.11999893 33.15999985 33.20000076 33.24000168\n",
      " 33.27999878 33.31999969 33.36000061 33.40000153 33.43999863 33.47999954\n",
      " 33.52000046 33.56000137 33.59999847 33.63999939 33.68000031 33.72000122\n",
      " 33.75999832 33.79999924 33.84000015 33.88000107 33.91999817 33.95999908\n",
      " 34.         34.04000092 34.08000183 34.11999893 34.15999985 34.20000076\n",
      " 34.24000168 34.27999878 34.31999969 34.36000061 34.40000153 34.43999863\n",
      " 34.47999954 34.52000046 34.56000137 34.59999847 34.63999939 34.68000031\n",
      " 34.72000122 34.75999832 34.79999924 34.84000015 34.88000107 34.91999817\n",
      " 34.95999908 35.         35.04000092 35.08000183 35.11999893 35.15999985\n",
      " 35.20000076 35.24000168 35.27999878 35.31999969 35.36000061 35.40000153\n",
      " 35.43999863 35.47999954 35.52000046 35.56000137 35.59999847 35.63999939\n",
      " 35.68000031 35.72000122 35.75999832 35.79999924 35.84000015 35.88000107\n",
      " 35.91999817 35.95999908 36.         36.04000092 36.08000183 36.11999893\n",
      " 36.15999985 36.20000076 36.24000168 36.27999878 36.31999969 36.36000061\n",
      " 36.40000153 36.43999863 36.47999954 36.52000046 36.56000137 36.59999847\n",
      " 36.63999939 36.68000031 36.72000122 36.75999832 36.79999924 36.84000015\n",
      " 36.88000107 36.91999817 36.95999908 37.        ]\n"
     ]
    }
   ],
   "source": [
    "import xarray as xr\n",
    "\n",
    "fn='/scratch/PFM_Simulations/LV1_Forecast/Forc/hy_cat_2024-07-29T12:00.nc'\n",
    "ds = xr.open_dataset(fn)\n",
    "print(ds.lat.values)\n"
   ]
  },
  {
   "cell_type": "code",
   "execution_count": 9,
   "metadata": {},
   "outputs": [
    {
     "name": "stdout",
     "output_type": "stream",
     "text": [
      "[]\n"
     ]
    }
   ],
   "source": [
    "import os\n",
    "import glob\n",
    "tstr = \"2024-07-30T12:00\"\n",
    "ffname = \"hy_\" + tstr + \"_*.nc\"\n",
    "full_fns_out = PFM['lv1_forc_dir'] + \"/\" + ffname\n",
    "ncfiles = glob.glob(full_fns_out)\n",
    "cat_fname = PFM['lv1_forc_dir'] + '/' + 'hy_cat_' + tstr + '.nc'\n",
    "\n",
    "print(ncfiles)\n"
   ]
  },
  {
   "cell_type": "code",
   "execution_count": 29,
   "metadata": {},
   "outputs": [
    {
     "name": "stdout",
     "output_type": "stream",
     "text": [
      "2024-07-30T12:00\n",
      "2024-07-30 12:00:00\n",
      "2024-08-02 00:00:00\n",
      "2024-08-02T00:00\n"
     ]
    }
   ],
   "source": [
    "from datetime import timedelta\n",
    "\n",
    "tstr = '2024-07-30T12:00'\n",
    "print(tstr)\n",
    "t1 = datetime.strptime(tstr,\"%Y-%m-%dT%H:%M\")\n",
    "t2 = t1 + 2.5 * timedelta(days=1)\n",
    "print(t1)\n",
    "print(t2)\n",
    "t2str = t2.strftime(\"%Y-%m-%dT%H:%M\")\n",
    "print(t2str)"
   ]
  },
  {
   "cell_type": "code",
   "execution_count": 11,
   "metadata": {},
   "outputs": [
    {
     "name": "stdout",
     "output_type": "stream",
     "text": [
      "[1 2 3 4 5]\n",
      "[0 1 2 3 4 5]\n",
      "[0 1 2 3 4 5 6]\n"
     ]
    }
   ],
   "source": [
    "a = np.array([1,2,3,4,5])\n",
    "print(a)\n",
    "a=np.insert(a,0,0)\n",
    "print(a)\n",
    "a = np.append(a,6)\n",
    "print(a)"
   ]
  },
  {
   "cell_type": "code",
   "execution_count": null,
   "metadata": {},
   "outputs": [],
   "source": [
    "# a block of code to use ncks...\n",
    "import time\n",
    "import subprocess\n",
    "\n",
    "vstr = 'surf_el,water_temp,salinity,water_u,water_v,depth'\n",
    "\n",
    "# make the ocn IC and BC .nc files here\n",
    "# fn*_out are the names of the the IC.nc and BC.nc roms files\n",
    "lv1_forc_dir = PFM['lv1_forc_dir']   #'/Users/mspydell/research/FF2024/models/SDPM_mss/atm_stuff/ocn_test_IC_file.nc'\n",
    "full_fn_out = lv1_forc_dir + '/hycom_test_mss.nc'\n",
    "\n",
    "west =  PFM['latlonbox'][2]+360.0\n",
    "east =  PFM['latlonbox'][3]+360.0\n",
    "south = PFM['latlonbox'][0]\n",
    "north = PFM['latlonbox'][1]\n",
    "\n",
    "yyyy = yyyymmdd[0:4]\n",
    "mm = yyyymmdd[4:6]\n",
    "dd = yyyymmdd[6:8]\n",
    "\n",
    "# time limits\n",
    "dstr0 = yyyy + '-' + mm + '-' + dd + 'T12:00'\n",
    "dstr1 = yyyy + '-' + mm + '-' + str( int(dd) + 1 ) + 'T00:00'\n",
    "\n",
    "url='https://tds.hycom.org/thredds/dodsC/GLBy0.08/expt_93.0/FMRC/runs/' \n",
    "url2 = 'GLBy0.08_930_FMRC_RUN_' + yyyy + '-' + mm + '-' + dd + 'T12:00:00Z' \n",
    "url3 = url + url2\n",
    "cmd_list = ['ncks',\n",
    "    '-d', 'time,'+dstr0+','+dstr1,\n",
    "    '-d', 'lon,'+str(west)+','+str(east),\n",
    "    '-d', 'lat,'+str(south)+','+str(north),\n",
    "    '-v', vstr,\n",
    "    url3 ,\n",
    "    '-4', '-O', full_fn_out]\n",
    "\n",
    "print(cmd_list)\n",
    "\n",
    "# run ncks\n",
    "tt0 = time.time()\n",
    "ret1 = subprocess.call(cmd_list)\n"
   ]
  },
  {
   "cell_type": "code",
   "execution_count": 51,
   "metadata": {},
   "outputs": [
    {
     "name": "stdout",
     "output_type": "stream",
     "text": [
      "[9340.5   9340.625 9340.75  9340.875 9341.   ]\n"
     ]
    }
   ],
   "source": [
    "import xarray as xr\n",
    "from datetime import timedelta\n",
    "\n",
    "ds = xr.open_dataset(full_fn_out)\n",
    "#print(ds)\n",
    "\n",
    "t_hy = ds.time\n",
    "t_ref = PFM['modtime0']\n",
    "\n",
    "dt_day = (t_hy - np.datetime64(t_ref))  / np.timedelta64(1,'D')\n",
    "\n",
    "print(dt_day.values)\n",
    "#print(t_hy[0]-t_ref)\n",
    "\n",
    "\n",
    "#t_hy2 = datetime(t_hy)\n",
    "\n",
    "#t_ref?\n",
    "#deltat = t_hy - t_ref\n",
    "\n",
    "#print(deltat)\n",
    "\n",
    "\n",
    "#print(t_hy)\n",
    "#print(t_ref)\n",
    "      \n"
   ]
  },
  {
   "cell_type": "code",
   "execution_count": 5,
   "metadata": {},
   "outputs": [
    {
     "name": "stdout",
     "output_type": "stream",
     "text": [
      "[[0. 0. 0. 0. 0.]\n",
      " [0. 0. 0. 0. 0.]\n",
      " [0. 0. 0. 0. 0.]\n",
      " [0. 0. 0. 0. 0.]]\n"
     ]
    }
   ],
   "source": [
    "zz=np.random.randn(2,3,4,5)\n",
    "dum = zz[1,2,:,:]\n",
    "ang = np.random.randn(4,5)\n",
    "ang2 = np.tile(ang,(2,3,1,1))\n"
   ]
  },
  {
   "cell_type": "code",
   "execution_count": 1,
   "metadata": {},
   "outputs": [
    {
     "name": "stdout",
     "output_type": "stream",
     "text": [
      "/home/mspydell/models/PFM_root/PFM/driver\n",
      "make it through and subprocesses are still spinning\n",
      "/home/mspydell/models/PFM_root/PFM/driver\n"
     ]
    },
    {
     "name": "stderr",
     "output_type": "stream",
     "text": [
      "/home/mspydell/models/PFM_root/PFM/sdpm_py_util/ocn_functions.py:23: UserWarning: The seawater library is deprecated! Please use gsw instead.\n",
      "  import seawater\n",
      "/home/mspydell/models/PFM_root/PFM/sdpm_py_util/ocn_functions.py:23: UserWarning: The seawater library is deprecated! Please use gsw instead.\n",
      "  import seawater\n"
     ]
    },
    {
     "name": "stdout",
     "output_type": "stream",
     "text": [
      "in loop:\n",
      "0\n",
      "-13\n",
      "in loop:\n",
      "1\n",
      "31\n",
      "in loop:\n",
      "0\n",
      "-15\n",
      "in loop:\n",
      "2\n",
      "4\n",
      "in loop:\n",
      "1\n",
      "10\n",
      "in loop:\n",
      "3\n",
      "-20\n",
      "in loop:\n",
      "2\n",
      "21\n",
      "in loop:\n",
      "4\n",
      "28\n",
      "in loop:\n",
      "3\n",
      "-9\n",
      "in loop:\n",
      "0\n",
      "6\n",
      "in loop:\n",
      "4\n",
      "-16\n",
      "in loop:\n",
      "1\n",
      "-12\n",
      "in loop:\n",
      "0\n",
      "-5\n",
      "in loop:\n",
      "2\n",
      "-19\n",
      "in loop:\n",
      "1\n",
      "-6\n",
      "in loop:\n",
      "3\n",
      "21\n",
      "in loop:\n",
      "2\n",
      "32\n",
      "in loop:\n",
      "4\n",
      "-9\n",
      "in loop:\n",
      "3\n",
      "60\n",
      "in loop:\n",
      "4\n",
      "-15\n"
     ]
    }
   ],
   "source": [
    "import subprocess\n",
    "import os\n",
    "\n",
    "print(os.getcwd())\n",
    "os.chdir('../sdpm_py_util')\n",
    "cmd_list = ['python','ocn_functions.py','sum_fn','5','100']\n",
    "ret1 = subprocess.Popen(cmd_list)\n",
    "\n",
    "cmd_list2 = ['python','ocn_functions.py','sum_fn','5','100']\n",
    "ret2 = subprocess.Popen(cmd_list2)\n",
    "\n",
    "# placeing this here waits for the return code. i.e. the code is blocked here\n",
    "# if this is commented out. Then we can reach \n",
    "#ssd1 = ret1.communicate()[0]\n",
    "#rc1 = ret1.returncode\n",
    "#print(rc1)\n",
    "\n",
    "#d2 = ret2.communicate()[0]\n",
    "#rc2 = ret2.returncode\n",
    "#print(rc2)\n",
    "\n",
    "print('make it through and subprocesses are still spinning')\n",
    "\n",
    "os.chdir('../driver')\n",
    "print(os.getcwd())\n"
   ]
  },
  {
   "cell_type": "code",
   "execution_count": 4,
   "metadata": {},
   "outputs": [
    {
     "name": "stdout",
     "output_type": "stream",
     "text": [
      "return code 1 is now:\n",
      "0\n",
      "return code 2 is now:\n",
      "0\n"
     ]
    }
   ],
   "source": [
    "ssd1 = ret1.communicate()[0]\n",
    "rc1a = ret1.returncode\n",
    "print('return code 1 is now:')\n",
    "print(rc1a)\n",
    "ssd2 = ret2.communicate()[0]\n",
    "rc2a = ret2.returncode\n",
    "print('return code 2 is now:')\n",
    "print(rc2a)\n",
    "\n"
   ]
  },
  {
   "cell_type": "code",
   "execution_count": 11,
   "metadata": {},
   "outputs": [
    {
     "name": "stdout",
     "output_type": "stream",
     "text": [
      "202408041200\n",
      "1999-01-01 00:00:00\n",
      "2024-08-04 12:00:00\n",
      "9347.5\n"
     ]
    }
   ],
   "source": [
    "from datetime import timedelta\n",
    "print(yyyymmdd + hhmm)\n",
    "t0 = PFM['modtime0']\n",
    "t2 = datetime.strptime(yyyymmdd + hhmm, '%Y%m%d%H%M')\n",
    "dt = (t2-t0)/timedelta(days=1)\n",
    "print(t0)\n",
    "print(t2)\n",
    "print(dt)\n"
   ]
  },
  {
   "cell_type": "code",
   "execution_count": 4,
   "metadata": {},
   "outputs": [
    {
     "name": "stdout",
     "output_type": "stream",
     "text": [
      "[9346.5   9346.625 9346.75  9346.875 9347.    9347.125 9347.25  9347.375\n",
      " 9347.5   9347.625 9347.75  9347.875 9348.    9348.125 9348.25  9348.375\n",
      " 9348.5   9348.625 9348.75  9348.875 9349.   ]\n"
     ]
    }
   ],
   "source": [
    "import netCDF4\n",
    "f = netCDF4.Dataset('/scratch/PFM_Simulations/LV1_Forecast/Forc/LV1_OCEAN_BC.nc')\n",
    "#f = netCDF4.Dataset('/scratch/PFM_Simulations/LV1_Forecast/Forc/LV1_OCEAN_IC.nc')\n",
    "#f = netCDF4.Dataset('/scratch/PFM_Simulations/LV1_Forecast/Forc/LV1_ATM_FORCING.nc')\n",
    "\n",
    "t = f.variables['ocean_time']\n",
    "print(t[:])"
   ]
  }
 ],
 "metadata": {
  "kernelspec": {
   "display_name": "base",
   "language": "python",
   "name": "python3"
  },
  "language_info": {
   "codemirror_mode": {
    "name": "ipython",
    "version": 3
   },
   "file_extension": ".py",
   "mimetype": "text/x-python",
   "name": "python",
   "nbconvert_exporter": "python",
   "pygments_lexer": "ipython3",
   "version": "3.12.2"
  }
 },
 "nbformat": 4,
 "nbformat_minor": 2
}
